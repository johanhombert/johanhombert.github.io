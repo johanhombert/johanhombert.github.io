{
 "cells": [
  {
   "cell_type": "code",
   "execution_count": 3,
   "id": "93801b49",
   "metadata": {},
   "outputs": [
    {
     "name": "stdout",
     "output_type": "stream",
     "text": [
      "          month   BRK_ret      rf   mktrf     smb     hml     mom\n",
      "0    01/01/1980  0.045455  0.0080  0.0551  0.0165  0.0172  0.0751\n",
      "1    01/02/1980  0.000000  0.0089 -0.0122 -0.0183  0.0066  0.0788\n",
      "2    01/03/1980 -0.217391  0.0121 -0.1290 -0.0665 -0.0102 -0.0959\n",
      "3    01/04/1980  0.074074  0.0126  0.0397  0.0096  0.0101 -0.0042\n",
      "4    01/05/1980  0.137931  0.0081  0.0526  0.0216  0.0038 -0.0111\n",
      "..          ...       ...     ...     ...     ...     ...     ...\n",
      "487  01/08/2020  0.115550  0.0001  0.0763 -0.0025 -0.0294  0.0051\n",
      "488  01/09/2020 -0.023077  0.0001 -0.0363  0.0006 -0.0251  0.0305\n",
      "489  01/10/2020 -0.054690  0.0001 -0.0210  0.0444  0.0403 -0.0303\n",
      "490  01/11/2020  0.136159  0.0001  0.1247  0.0548  0.0211 -0.1225\n",
      "491  01/12/2020  0.012008  0.0001  0.0463  0.0481 -0.0136 -0.0242\n",
      "\n",
      "[492 rows x 7 columns]\n"
     ]
    }
   ],
   "source": [
    "import pandas as pd\n",
    "import statsmodels.api as sm\n",
    "\n",
    "# Download data\n",
    "df = pd.read_csv(\"https://johanhombert.github.io/data/brk.csv\")\n",
    "\n",
    "# Select columns\n",
    "df = df.iloc[:, :7]\n",
    "\n",
    "print(df)"
   ]
  },
  {
   "cell_type": "code",
   "execution_count": 4,
   "id": "be3f449b",
   "metadata": {},
   "outputs": [
    {
     "name": "stdout",
     "output_type": "stream",
     "text": [
      "                            OLS Regression Results                            \n",
      "==============================================================================\n",
      "Dep. Variable:              BRK_retrf   R-squared:                       0.237\n",
      "Model:                            OLS   Adj. R-squared:                  0.235\n",
      "Method:                 Least Squares   F-statistic:                     131.2\n",
      "Date:                Mon, 01 Apr 2024   Prob (F-statistic):           4.52e-27\n",
      "Time:                        21:48:23   Log-Likelihood:                 719.42\n",
      "No. Observations:                 492   AIC:                            -1435.\n",
      "Df Residuals:                     490   BIC:                            -1426.\n",
      "Df Model:                           1                                         \n",
      "Covariance Type:                  HC1                                         \n",
      "==============================================================================\n",
      "                 coef    std err          z      P>|z|      [0.025      0.975]\n",
      "------------------------------------------------------------------------------\n",
      "const          0.0079      0.003      3.108      0.002       0.003       0.013\n",
      "mktrf          0.6926      0.060     11.452      0.000       0.574       0.811\n",
      "==============================================================================\n",
      "Omnibus:                       88.380   Durbin-Watson:                   2.034\n",
      "Prob(Omnibus):                  0.000   Jarque-Bera (JB):              210.429\n",
      "Skew:                           0.922   Prob(JB):                     2.02e-46\n",
      "Kurtosis:                       5.620   Cond. No.                         22.2\n",
      "==============================================================================\n",
      "\n",
      "Notes:\n",
      "[1] Standard Errors are heteroscedasticity robust (HC1)\n"
     ]
    }
   ],
   "source": [
    "# 1. Market model\n",
    "\n",
    "# Dependent variable: Berkeshire Hathaway's excess return\n",
    "df['BRK_retrf'] = df['BRK_ret'] - df['rf']\n",
    "y = df['BRK_retrf']\n",
    "\n",
    "# Regressors: market excess return and a constant \n",
    "X = df['mktrf']\n",
    "X = sm.add_constant(X)\n",
    "\n",
    "# Run OLS with robust standard errors (HC1)\n",
    "model1 = sm.OLS(y, X).fit(cov_type='HC1')\n",
    "print(model1.summary())"
   ]
  },
  {
   "cell_type": "code",
   "execution_count": null,
   "id": "98d37113",
   "metadata": {},
   "outputs": [],
   "source": []
  }
 ],
 "metadata": {
  "kernelspec": {
   "display_name": "Python 3 (ipykernel)",
   "language": "python",
   "name": "python3"
  },
  "language_info": {
   "codemirror_mode": {
    "name": "ipython",
    "version": 3
   },
   "file_extension": ".py",
   "mimetype": "text/x-python",
   "name": "python",
   "nbconvert_exporter": "python",
   "pygments_lexer": "ipython3",
   "version": "3.11.5"
  }
 },
 "nbformat": 4,
 "nbformat_minor": 5
}
