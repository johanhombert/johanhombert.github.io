{
 "cells": [
  {
   "cell_type": "code",
   "execution_count": 27,
   "id": "93801b49",
   "metadata": {},
   "outputs": [
    {
     "name": "stdout",
     "output_type": "stream",
     "text": [
      "          month   BRK_ret      rf   mktrf     smb     hml     mom\n",
      "0    01/01/1980  0.045455  0.0080  0.0551  0.0165  0.0172  0.0751\n",
      "1    01/02/1980  0.000000  0.0089 -0.0122 -0.0183  0.0066  0.0788\n",
      "2    01/03/1980 -0.217391  0.0121 -0.1290 -0.0665 -0.0102 -0.0959\n",
      "3    01/04/1980  0.074074  0.0126  0.0397  0.0096  0.0101 -0.0042\n",
      "4    01/05/1980  0.137931  0.0081  0.0526  0.0216  0.0038 -0.0111\n",
      "..          ...       ...     ...     ...     ...     ...     ...\n",
      "487  01/08/2020  0.115550  0.0001  0.0763 -0.0025 -0.0294  0.0051\n",
      "488  01/09/2020 -0.023077  0.0001 -0.0363  0.0006 -0.0251  0.0305\n",
      "489  01/10/2020 -0.054690  0.0001 -0.0210  0.0444  0.0403 -0.0303\n",
      "490  01/11/2020  0.136159  0.0001  0.1247  0.0548  0.0211 -0.1225\n",
      "491  01/12/2020  0.012008  0.0001  0.0463  0.0481 -0.0136 -0.0242\n",
      "\n",
      "[492 rows x 7 columns]\n"
     ]
    }
   ],
   "source": [
    "import pandas as pd\n",
    "import statsmodels.api as sm\n",
    "\n",
    "# Download data\n",
    "df = pd.read_csv(\"https://johanhombert.github.io/data/brk.csv\")\n",
    "\n",
    "# Select columns\n",
    "df = df.iloc[:, :7]\n",
    "\n",
    "print(df)"
   ]
  },
  {
   "cell_type": "code",
   "execution_count": 28,
   "id": "be3f449b",
   "metadata": {},
   "outputs": [
    {
     "name": "stdout",
     "output_type": "stream",
     "text": [
      "                            OLS Regression Results                            \n",
      "==============================================================================\n",
      "Dep. Variable:              BRK_retrf   R-squared:                       0.237\n",
      "Model:                            OLS   Adj. R-squared:                  0.235\n",
      "Method:                 Least Squares   F-statistic:                     131.2\n",
      "Date:                Wed, 03 Apr 2024   Prob (F-statistic):           4.52e-27\n",
      "Time:                        00:39:39   Log-Likelihood:                 719.42\n",
      "No. Observations:                 492   AIC:                            -1435.\n",
      "Df Residuals:                     490   BIC:                            -1426.\n",
      "Df Model:                           1                                         \n",
      "Covariance Type:                  HC1                                         \n",
      "==============================================================================\n",
      "                 coef    std err          z      P>|z|      [0.025      0.975]\n",
      "------------------------------------------------------------------------------\n",
      "const          0.0079      0.003      3.108      0.002       0.003       0.013\n",
      "mktrf          0.6926      0.060     11.452      0.000       0.574       0.811\n",
      "==============================================================================\n",
      "Omnibus:                       88.380   Durbin-Watson:                   2.034\n",
      "Prob(Omnibus):                  0.000   Jarque-Bera (JB):              210.429\n",
      "Skew:                           0.922   Prob(JB):                     2.02e-46\n",
      "Kurtosis:                       5.620   Cond. No.                         22.2\n",
      "==============================================================================\n",
      "\n",
      "Notes:\n",
      "[1] Standard Errors are heteroscedasticity robust (HC1)\n"
     ]
    }
   ],
   "source": [
    "# 1. Market model\n",
    "\n",
    "# Dependent variable: Berkeshire Hathaway's excess return\n",
    "df['BRK_retrf'] = df['BRK_ret'] - df['rf']\n",
    "y = df['BRK_retrf']\n",
    "\n",
    "# Regressors: market excess return and a constant \n",
    "X = df['mktrf']\n",
    "X = sm.add_constant(X)\n",
    "\n",
    "# Run OLS with robust standard errors (HC1)\n",
    "model1 = sm.OLS(y, X).fit(cov_type='HC1')\n",
    "print(model1.summary())"
   ]
  },
  {
   "cell_type": "code",
   "execution_count": 29,
   "id": "d7756647",
   "metadata": {},
   "outputs": [
    {
     "name": "stdout",
     "output_type": "stream",
     "text": [
      "                            OLS Regression Results                            \n",
      "==============================================================================\n",
      "Dep. Variable:              BRK_retrf   R-squared:                       0.311\n",
      "Model:                            OLS   Adj. R-squared:                  0.307\n",
      "Method:                 Least Squares   F-statistic:                     57.29\n",
      "Date:                Wed, 03 Apr 2024   Prob (F-statistic):           9.60e-32\n",
      "Time:                        00:39:40   Log-Likelihood:                 744.77\n",
      "No. Observations:                 492   AIC:                            -1482.\n",
      "Df Residuals:                     488   BIC:                            -1465.\n",
      "Df Model:                           3                                         \n",
      "Covariance Type:                  HC1                                         \n",
      "==============================================================================\n",
      "                 coef    std err          z      P>|z|      [0.025      0.975]\n",
      "------------------------------------------------------------------------------\n",
      "const          0.0068      0.002      2.780      0.005       0.002       0.012\n",
      "mktrf          0.8128      0.064     12.739      0.000       0.688       0.938\n",
      "hml            0.4120      0.079      5.246      0.000       0.258       0.566\n",
      "smb           -0.3697      0.104     -3.549      0.000      -0.574      -0.166\n",
      "==============================================================================\n",
      "Omnibus:                       86.625   Durbin-Watson:                   2.080\n",
      "Prob(Omnibus):                  0.000   Jarque-Bera (JB):              172.151\n",
      "Skew:                           0.975   Prob(JB):                     4.15e-38\n",
      "Kurtosis:                       5.143   Cond. No.                         38.0\n",
      "==============================================================================\n",
      "\n",
      "Notes:\n",
      "[1] Standard Errors are heteroscedasticity robust (HC1)\n"
     ]
    }
   ],
   "source": [
    "# 2. Fama-French 3-factor model\n",
    "\n",
    "# Regressors\n",
    "X = df[['mktrf','hml','smb']]\n",
    "X = sm.add_constant(X)\n",
    "\n",
    "# Run OLS\n",
    "model2 = sm.OLS(y, X).fit(cov_type='HC1')\n",
    "print(model2.summary())"
   ]
  },
  {
   "cell_type": "code",
   "execution_count": 30,
   "id": "d4b3b02a",
   "metadata": {},
   "outputs": [
    {
     "name": "stdout",
     "output_type": "stream",
     "text": [
      "                            OLS Regression Results                            \n",
      "==============================================================================\n",
      "Dep. Variable:              BRK_retrf   R-squared:                       0.314\n",
      "Model:                            OLS   Adj. R-squared:                  0.308\n",
      "Method:                 Least Squares   F-statistic:                     45.47\n",
      "Date:                Wed, 03 Apr 2024   Prob (F-statistic):           1.87e-32\n",
      "Time:                        00:39:41   Log-Likelihood:                 745.70\n",
      "No. Observations:                 492   AIC:                            -1481.\n",
      "Df Residuals:                     487   BIC:                            -1460.\n",
      "Df Model:                           4                                         \n",
      "Covariance Type:                  HC1                                         \n",
      "==============================================================================\n",
      "                 coef    std err          z      P>|z|      [0.025      0.975]\n",
      "------------------------------------------------------------------------------\n",
      "const          0.0062      0.002      2.475      0.013       0.001       0.011\n",
      "mktrf          0.8302      0.067     12.443      0.000       0.699       0.961\n",
      "hml            0.4442      0.086      5.140      0.000       0.275       0.614\n",
      "smb           -0.3700      0.106     -3.490      0.000      -0.578      -0.162\n",
      "mom            0.0769      0.055      1.389      0.165      -0.032       0.185\n",
      "==============================================================================\n",
      "Omnibus:                       87.036   Durbin-Watson:                   2.085\n",
      "Prob(Omnibus):                  0.000   Jarque-Bera (JB):              171.725\n",
      "Skew:                           0.983   Prob(JB):                     5.13e-38\n",
      "Kurtosis:                       5.125   Cond. No.                         39.2\n",
      "==============================================================================\n",
      "\n",
      "Notes:\n",
      "[1] Standard Errors are heteroscedasticity robust (HC1)\n"
     ]
    }
   ],
   "source": [
    "# 3. Carhart 4-factor model\n",
    "\n",
    "# Regressors\n",
    "X = df[['mktrf','hml','smb','mom']]\n",
    "X = sm.add_constant(X)\n",
    "\n",
    "# Run OLS\n",
    "model3 = sm.OLS(y, X).fit(cov_type='HC1')\n",
    "print(model3.summary())"
   ]
  },
  {
   "cell_type": "code",
   "execution_count": 25,
   "id": "952d0c70",
   "metadata": {},
   "outputs": [
    {
     "name": "stdout",
     "output_type": "stream",
     "text": [
      "Market factor\n",
      "  risk premium: 0.007131504065040651\n",
      "  BRK's beta  : 0.8127681805355076\n",
      "  contribution to ER: 0.005796259583424666\n",
      "HML factor\n",
      "  risk premium: 0.0015949186991869918\n",
      "  BRK's beta  : 0.41203892481844545\n",
      "  contribution to ER: 0.0006571685859858417\n",
      "SMB factor\n",
      "  risk premium: 0.0009532520325203251\n",
      "  BRK's beta  : -0.3697220226994913\n",
      "  contribution to ER: -0.00035243826960581587\n"
     ]
    }
   ],
   "source": [
    "# Expected return decomposition\n",
    "# Contribution of exposure to market return\n",
    "print(\"Market factor\")\n",
    "# = market risk premium ...\n",
    "print(\"  risk premium:\", df['mktrf'].mean())\n",
    "# times BRK's exposure to market factor\n",
    "print(\"  BRK's beta  :\", model2.params['mktrf'])\n",
    "# = ...\n",
    "print(\"  contribution to ER:\", df['mktrf'].mean() * model2.params['mktrf'])\n",
    "\n",
    "# Same calculation for HML\n",
    "print(\"HML factor\")\n",
    "print(\"  risk premium:\", df['hml'].mean())\n",
    "print(\"  BRK's beta  :\", model2.params['hml'])\n",
    "print(\"  contribution to ER:\", df['hml'].mean() * model2.params['hml'])\n",
    "\n",
    "# Same calculation for SMB\n",
    "print(\"SMB factor\")\n",
    "print(\"  risk premium:\", df['smb'].mean())\n",
    "print(\"  BRK's beta  :\", model2.params['smb'])\n",
    "print(\"  contribution to ER:\", df['smb'].mean() * model2.params['smb'])"
   ]
  },
  {
   "cell_type": "code",
   "execution_count": 26,
   "id": "ba45eff0-d1b5-4ac8-94e2-8450833a738c",
   "metadata": {},
   "outputs": [
    {
     "data": {
      "text/plain": [
       "0.012872223577235773"
      ]
     },
     "execution_count": 26,
     "metadata": {},
     "output_type": "execute_result"
    }
   ],
   "source": [
    "# Average excess return of BRK\n",
    "df['BRK_retrf'].mean()"
   ]
  },
  {
   "cell_type": "code",
   "execution_count": null,
   "id": "925eefae-b6e2-4ef2-ab0f-f972144174ad",
   "metadata": {},
   "outputs": [],
   "source": []
  }
 ],
 "metadata": {
  "kernelspec": {
   "display_name": "Python 3 (ipykernel)",
   "language": "python",
   "name": "python3"
  },
  "language_info": {
   "codemirror_mode": {
    "name": "ipython",
    "version": 3
   },
   "file_extension": ".py",
   "mimetype": "text/x-python",
   "name": "python",
   "nbconvert_exporter": "python",
   "pygments_lexer": "ipython3",
   "version": "3.11.7"
  }
 },
 "nbformat": 4,
 "nbformat_minor": 5
}
