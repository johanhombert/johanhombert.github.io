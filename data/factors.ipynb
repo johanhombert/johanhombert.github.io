{
 "cells": [
  {
   "cell_type": "code",
   "execution_count": 5,
   "id": "93801b49",
   "metadata": {},
   "outputs": [
    {
     "name": "stdout",
     "output_type": "stream",
     "text": [
      "       date  mktrf   smb   hml   mom\n",
      "0    198001   5.51  1.62  1.75  7.55\n",
      "1    198002  -1.22 -1.85  0.61  7.88\n",
      "2    198003 -12.90 -6.64 -1.01 -9.55\n",
      "3    198004   3.97  1.05  1.06 -0.43\n",
      "4    198005   5.26  2.13  0.38 -1.12\n",
      "..      ...    ...   ...   ...   ...\n",
      "523  202308  -2.39 -3.16 -1.06  3.77\n",
      "524  202309  -5.24 -2.51  1.52  0.26\n",
      "525  202310  -3.19 -3.87  0.19  1.73\n",
      "526  202311   8.84 -0.02  1.64  2.75\n",
      "527  202312   4.85  6.34  4.93 -5.53\n",
      "\n",
      "[528 rows x 5 columns]\n"
     ]
    }
   ],
   "source": [
    "import pandas as pd\n",
    "import statsmodels.api as sm\n",
    "\n",
    "# Download data\n",
    "df = pd.read_csv(\"https://johanhombert.github.io/data/factors.csv\")\n",
    "\n",
    "print(df)"
   ]
  },
  {
   "cell_type": "code",
   "execution_count": 4,
   "id": "def1fb9d",
   "metadata": {},
   "outputs": [
    {
     "name": "stdout",
     "output_type": "stream",
     "text": [
      "S.D. HML: 3.173175740215234\n",
      "S.D. MOM: 4.479659221339671\n",
      "S.D. MIX: 2.454936061429967\n",
      "Corr(HML,MOM): -0.2120877421722596\n"
     ]
    }
   ],
   "source": [
    "# Portfolio MIX\n",
    "df['mix'] = 0.5*df['hml'] + 0.5*df['mom']\n",
    "\n",
    "# Standard deviations\n",
    "print( \"S.D. HML:\", df['hml'].std())\n",
    "print( \"S.D. MOM:\", df['mom'].std())\n",
    "print( \"S.D. MIX:\", df['mix'].std())\n",
    "\n",
    "# Correlation\n",
    "print( \"Corr(HML,MOM):\", df['hml'].corr(df['mom']))"
   ]
  },
  {
   "cell_type": "code",
   "execution_count": 10,
   "id": "a921941d",
   "metadata": {},
   "outputs": [
    {
     "name": "stdout",
     "output_type": "stream",
     "text": [
      "Sharpe MKT: 0.1546478763054767\n",
      "Sharpe HML: 0.070172745783803\n",
      "Sharpe MOM: 0.11346321004290856\n",
      "Sharpe MIX: 0.14887291387768425\n"
     ]
    }
   ],
   "source": [
    "# Sharpe ratios\n",
    "print( \"Sharpe MKT:\", df['mktrf'].mean()/df['mktrf'].std())\n",
    "print( \"Sharpe HML:\", df['hml'].mean()/df['hml'].std())\n",
    "print( \"Sharpe MOM:\", df['mom'].mean()/df['mom'].std())\n",
    "print( \"Sharpe MIX:\", df['mix'].mean()/df['mix'].std())"
   ]
  },
  {
   "cell_type": "code",
   "execution_count": null,
   "id": "952d0c70",
   "metadata": {},
   "outputs": [],
   "source": []
  }
 ],
 "metadata": {
  "kernelspec": {
   "display_name": "Python 3 (ipykernel)",
   "language": "python",
   "name": "python3"
  },
  "language_info": {
   "codemirror_mode": {
    "name": "ipython",
    "version": 3
   },
   "file_extension": ".py",
   "mimetype": "text/x-python",
   "name": "python",
   "nbconvert_exporter": "python",
   "pygments_lexer": "ipython3",
   "version": "3.11.7"
  }
 },
 "nbformat": 4,
 "nbformat_minor": 5
}
